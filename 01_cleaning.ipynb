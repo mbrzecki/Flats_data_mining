{
 "cells": [
  {
   "cell_type": "code",
   "execution_count": 1,
   "metadata": {},
   "outputs": [],
   "source": [
    "import csv\n",
    "import sys\n",
    "import pandas as pd\n",
    "import numpy as np\n",
    "import math\n",
    "import matplotlib.pyplot as plt"
   ]
  },
  {
   "cell_type": "code",
   "execution_count": 2,
   "metadata": {},
   "outputs": [],
   "source": [
    "with open(\"data/warszawa_addresses.csv\") as f:\n",
    "    reader = csv.reader(f, delimiter=';', quotechar='|')\n",
    "    lst = []\n",
    "    col_names = []\n",
    "    for i,row in enumerate(reader):\n",
    "        if i == 0:\n",
    "            col_names = row\n",
    "            continue\n",
    "        lst.append(dict(zip(col_names,row)))\n",
    "sample = pd.DataFrame(lst).set_index('Id')"
   ]
  },
  {
   "cell_type": "markdown",
   "metadata": {},
   "source": [
    "Filling Neighbourhoods\n",
    "--------\n",
    "If neighbourhood is missing, replace missing with name of borough "
   ]
  },
  {
   "cell_type": "code",
   "execution_count": 3,
   "metadata": {},
   "outputs": [],
   "source": [
    "sample['Neighbourhood_filled'] = [b if n=='.' else n for b,n in zip(sample['Borough'],sample['Neighbourhood'])]"
   ]
  },
  {
   "cell_type": "markdown",
   "metadata": {},
   "source": [
    "Converting dates\n",
    "-----------\n",
    "Converting dates in dataframe from string representation to datetime"
   ]
  },
  {
   "cell_type": "code",
   "execution_count": 4,
   "metadata": {},
   "outputs": [],
   "source": [
    "def convert_to_date(date_str):\n",
    "    if not date_str == '.':\n",
    "        months = {'Stycznia':1,'Lutego':2,'Marca':3,'Kwietnia':4,'Maja':5,'Czerwca':6,\n",
    "                  'Lipca':7,'Sierpnia':8,'Września':9,'Października':10,'Listopada':11, 'Grudnia':12}    \n",
    "        x = date_str.split(' ')\n",
    "        return pd.datetime(int(x[2]),months[x[1]],int(x[0]))\n",
    "    return None\n",
    "\n",
    "def days_after_publication(date):\n",
    "    def f(item):\n",
    "        if item == 'ponad 14 dni temu':\n",
    "            return 15\n",
    "        else:\n",
    "            x = item.split('.')\n",
    "            date_temp = pd.datetime(int(x[2]),int(x[1]),int(x[0]))\n",
    "            return (date-date_temp).days+1\n",
    "    return f\n",
    "sample['available'] = sample['available'].apply(convert_to_date)\n",
    "converter = days_after_publication(pd.datetime(2018,9,9))\n",
    "sample['publicated'] = sample['publicated'].apply(converter)\n",
    "sample['updated'] = sample['updated'].apply(converter)"
   ]
  },
  {
   "cell_type": "markdown",
   "metadata": {},
   "source": [
    "Data inputation\n",
    "-----------\n",
    "Adding a missing category to categorial observations\n",
    " "
   ]
  },
  {
   "cell_type": "code",
   "execution_count": 5,
   "metadata": {},
   "outputs": [],
   "source": [
    "sample['building_material']     = ['missing' if i=='.' else i for i in sample['building_material']]\n",
    "sample['building_type']         = ['missing' if i=='.' else i for i in sample['building_type']]\n",
    "sample['construction_status']   = ['missing' if i=='.' else i for i in sample['construction_status']]\n",
    "sample['heating']               = ['missing' if i=='.' else i for i in sample['heating']]\n",
    "sample['market']                = ['missing' if i=='.' else i for i in sample['market']]\n",
    "sample['ownership']             = ['missing' if i=='.' else i for i in sample['ownership']]\n",
    "sample['window']                = ['missing' if i=='.' else i for i in sample['window']]"
   ]
  },
  {
   "cell_type": "markdown",
   "metadata": {},
   "source": [
    "Extracting floor numbers\n",
    "-----------------\n",
    "Converting string representation of floor numbers into integers. The floor numbers are hold as string, for example  4 (z 6). We need to tokenize the string and save it separately as floor of flat and number of floors in building."
   ]
  },
  {
   "cell_type": "code",
   "execution_count": 6,
   "metadata": {},
   "outputs": [],
   "source": [
    "mapping_floornum = dict()\n",
    "mapping_blockfnum = dict()\n",
    "\n",
    "for orig in list(sample['floor_num'].unique()):\n",
    "    temp = orig.replace('parter','groundfloor')\n",
    "    temp = temp.replace('suterena','basement')\n",
    "    temp = temp.replace('poddasze','attic')\n",
    "    temp = temp.replace('> 10','gt10')    \n",
    "    if 'z' in orig:\n",
    "        mapping_floornum[orig] = temp.split('(z')[0].strip()\n",
    "        mapping_blockfnum[orig] = temp.split('(z')[1][1:-1]        \n",
    "    else:\n",
    "        mapping_floornum[orig] = temp\n",
    "        mapping_blockfnum[orig] = 'missing'\n",
    "        \n",
    "sample['appartment_floor_no'] =  sample['floor_num'].map(mapping_floornum) \n",
    "sample['building_floor_no']   =  sample['floor_num'].map(mapping_blockfnum)\n",
    "sample.drop(['floor_num'],axis=1,inplace=True)"
   ]
  },
  {
   "cell_type": "markdown",
   "metadata": {},
   "source": [
    "Calculating prizes\n",
    "----------"
   ]
  },
  {
   "cell_type": "code",
   "execution_count": 7,
   "metadata": {},
   "outputs": [],
   "source": [
    "mapping = {'PLN': 1, 'EUR': 4.2}\n",
    "sample['price'] = [ float(p) *mapping[c] for p,c in zip(sample['price'],sample['price_currency']) ] \n",
    "sample['surface'] = sample['surface'].apply(lambda x: round(float(x)))\n",
    "sample['price_per_sqm'] = [ p / s  for p,s in zip(sample['price'],sample['surface']) ] "
   ]
  },
  {
   "cell_type": "markdown",
   "metadata": {},
   "source": [
    "We check the distribution of prices. We see that some apartments have extremely high or low price. We delete them from as sample considering those observation as erroneous"
   ]
  },
  {
   "cell_type": "code",
   "execution_count": 8,
   "metadata": {},
   "outputs": [
    {
     "data": {
      "text/plain": [
       "count     11508.000000\n",
       "mean       9652.023960\n",
       "std        3638.247543\n",
       "min           1.000000\n",
       "25%        7660.861359\n",
       "50%        9000.000000\n",
       "75%       10844.827586\n",
       "max      114224.785714\n",
       "Name: price_per_sqm, dtype: float64"
      ]
     },
     "execution_count": 8,
     "metadata": {},
     "output_type": "execute_result"
    }
   ],
   "source": [
    "sample['price_per_sqm'].describe()"
   ]
  },
  {
   "cell_type": "code",
   "execution_count": 9,
   "metadata": {},
   "outputs": [
    {
     "data": {
      "text/html": [
       "<div>\n",
       "<style scoped>\n",
       "    .dataframe tbody tr th:only-of-type {\n",
       "        vertical-align: middle;\n",
       "    }\n",
       "\n",
       "    .dataframe tbody tr th {\n",
       "        vertical-align: top;\n",
       "    }\n",
       "\n",
       "    .dataframe thead th {\n",
       "        text-align: right;\n",
       "    }\n",
       "</style>\n",
       "<table border=\"1\" class=\"dataframe\">\n",
       "  <thead>\n",
       "    <tr style=\"text-align: right;\">\n",
       "      <th></th>\n",
       "      <th>Borough</th>\n",
       "      <th>price</th>\n",
       "      <th>surface</th>\n",
       "      <th>price_per_sqm</th>\n",
       "    </tr>\n",
       "    <tr>\n",
       "      <th>Id</th>\n",
       "      <th></th>\n",
       "      <th></th>\n",
       "      <th></th>\n",
       "      <th></th>\n",
       "    </tr>\n",
       "  </thead>\n",
       "  <tbody>\n",
       "    <tr>\n",
       "      <th>55257536</th>\n",
       "      <td>białołęka</td>\n",
       "      <td>469000.0</td>\n",
       "      <td>160</td>\n",
       "      <td>2931.250000</td>\n",
       "    </tr>\n",
       "    <tr>\n",
       "      <th>51801228</th>\n",
       "      <td>wesoła</td>\n",
       "      <td>380270.0</td>\n",
       "      <td>132</td>\n",
       "      <td>2880.833333</td>\n",
       "    </tr>\n",
       "    <tr>\n",
       "      <th>54770944</th>\n",
       "      <td>praga południe</td>\n",
       "      <td>400000.0</td>\n",
       "      <td>200</td>\n",
       "      <td>2000.000000</td>\n",
       "    </tr>\n",
       "    <tr>\n",
       "      <th>55382588</th>\n",
       "      <td>mokotów</td>\n",
       "      <td>610500.0</td>\n",
       "      <td>811</td>\n",
       "      <td>752.774353</td>\n",
       "    </tr>\n",
       "    <tr>\n",
       "      <th>55622628</th>\n",
       "      <td>mokotów</td>\n",
       "      <td>5200.0</td>\n",
       "      <td>100</td>\n",
       "      <td>52.000000</td>\n",
       "    </tr>\n",
       "    <tr>\n",
       "      <th>55627928</th>\n",
       "      <td>śródmieście</td>\n",
       "      <td>69000.0</td>\n",
       "      <td>59</td>\n",
       "      <td>1169.491525</td>\n",
       "    </tr>\n",
       "    <tr>\n",
       "      <th>54427100</th>\n",
       "      <td>ochota</td>\n",
       "      <td>356000.0</td>\n",
       "      <td>135</td>\n",
       "      <td>2637.037037</td>\n",
       "    </tr>\n",
       "    <tr>\n",
       "      <th>55619764</th>\n",
       "      <td>mokotów</td>\n",
       "      <td>368554.0</td>\n",
       "      <td>368554</td>\n",
       "      <td>1.000000</td>\n",
       "    </tr>\n",
       "  </tbody>\n",
       "</table>\n",
       "</div>"
      ],
      "text/plain": [
       "                 Borough     price  surface  price_per_sqm\n",
       "Id                                                        \n",
       "55257536       białołęka  469000.0      160    2931.250000\n",
       "51801228          wesoła  380270.0      132    2880.833333\n",
       "54770944  praga południe  400000.0      200    2000.000000\n",
       "55382588         mokotów  610500.0      811     752.774353\n",
       "55622628         mokotów    5200.0      100      52.000000\n",
       "55627928     śródmieście   69000.0       59    1169.491525\n",
       "54427100          ochota  356000.0      135    2637.037037\n",
       "55619764         mokotów  368554.0   368554       1.000000"
      ]
     },
     "execution_count": 9,
     "metadata": {},
     "output_type": "execute_result"
    }
   ],
   "source": [
    "sample[(sample['price_per_sqm'] <  3000)][['Borough','price','surface','price_per_sqm']]"
   ]
  },
  {
   "cell_type": "code",
   "execution_count": 10,
   "metadata": {},
   "outputs": [
    {
     "data": {
      "text/html": [
       "<div>\n",
       "<style scoped>\n",
       "    .dataframe tbody tr th:only-of-type {\n",
       "        vertical-align: middle;\n",
       "    }\n",
       "\n",
       "    .dataframe tbody tr th {\n",
       "        vertical-align: top;\n",
       "    }\n",
       "\n",
       "    .dataframe thead th {\n",
       "        text-align: right;\n",
       "    }\n",
       "</style>\n",
       "<table border=\"1\" class=\"dataframe\">\n",
       "  <thead>\n",
       "    <tr style=\"text-align: right;\">\n",
       "      <th></th>\n",
       "      <th>Borough</th>\n",
       "      <th>price</th>\n",
       "      <th>surface</th>\n",
       "      <th>price_per_sqm</th>\n",
       "    </tr>\n",
       "    <tr>\n",
       "      <th>Id</th>\n",
       "      <th></th>\n",
       "      <th></th>\n",
       "      <th></th>\n",
       "      <th></th>\n",
       "    </tr>\n",
       "  </thead>\n",
       "  <tbody>\n",
       "    <tr>\n",
       "      <th>55047352</th>\n",
       "      <td>mokotów</td>\n",
       "      <td>4891095.0</td>\n",
       "      <td>48</td>\n",
       "      <td>101897.812500</td>\n",
       "    </tr>\n",
       "    <tr>\n",
       "      <th>54843616</th>\n",
       "      <td>mokotów</td>\n",
       "      <td>1599147.0</td>\n",
       "      <td>14</td>\n",
       "      <td>114224.785714</td>\n",
       "    </tr>\n",
       "  </tbody>\n",
       "</table>\n",
       "</div>"
      ],
      "text/plain": [
       "          Borough      price  surface  price_per_sqm\n",
       "Id                                                  \n",
       "55047352  mokotów  4891095.0       48  101897.812500\n",
       "54843616  mokotów  1599147.0       14  114224.785714"
      ]
     },
     "execution_count": 10,
     "metadata": {},
     "output_type": "execute_result"
    }
   ],
   "source": [
    "sample[(sample['price_per_sqm'] > 50000)][['Borough','price','surface','price_per_sqm']]"
   ]
  },
  {
   "cell_type": "code",
   "execution_count": 11,
   "metadata": {},
   "outputs": [
    {
     "data": {
      "text/plain": [
       "count    11497.000000\n",
       "mean      9641.118966\n",
       "std       3392.277791\n",
       "min       3061.538462\n",
       "25%       7661.538462\n",
       "50%       9000.000000\n",
       "75%      10844.827586\n",
       "max      47941.285417\n",
       "Name: price_per_sqm, dtype: float64"
      ]
     },
     "execution_count": 11,
     "metadata": {},
     "output_type": "execute_result"
    }
   ],
   "source": [
    "sample = sample[(sample['price_per_sqm'] > 3000) & (sample['price_per_sqm'] < 50000)]\n",
    "sample['price_per_sqm'].describe()"
   ]
  },
  {
   "cell_type": "code",
   "execution_count": 12,
   "metadata": {},
   "outputs": [
    {
     "data": {
      "text/plain": [
       "count    11497.000000\n",
       "mean        66.041402\n",
       "std         32.389892\n",
       "min         16.000000\n",
       "25%         46.000000\n",
       "50%         59.000000\n",
       "75%         78.000000\n",
       "max        480.000000\n",
       "Name: surface, dtype: float64"
      ]
     },
     "execution_count": 12,
     "metadata": {},
     "output_type": "execute_result"
    }
   ],
   "source": [
    "sample['surface'].describe()"
   ]
  },
  {
   "cell_type": "code",
   "execution_count": 13,
   "metadata": {},
   "outputs": [
    {
     "name": "stdout",
     "output_type": "stream",
     "text": [
      "              Borough      City         Neighbourhood Street available  \\\n",
      "Id                                                                       \n",
      "54555896      mokotów  warszawa                     .      .       NaT   \n",
      "53357908  śródmieście  warszawa  śródmieście północne  złota       NaT   \n",
      "\n",
      "         building_material building_type construction_status       district  \\\n",
      "Id                                                                            \n",
      "54555896           missing     apartment             missing  górny mokotów   \n",
      "53357908             other     apartment             missing    śródmieście   \n",
      "\n",
      "         equipment_dishwasher      ...      security_roller_shutters  \\\n",
      "Id                                 ...                                 \n",
      "54555896                    0      ...                             0   \n",
      "53357908                    0      ...                             0   \n",
      "\n",
      "         security_security surface updated     window year_of_construction  \\\n",
      "Id                                                                           \n",
      "54555896                 0     424      15    missing                 2004   \n",
      "53357908                 0     480       1  aluminium                 2016   \n",
      "\n",
      "          Neighbourhood_filled appartment_floor_no building_floor_no  \\\n",
      "Id                                                                     \n",
      "54555896               mokotów         groundfloor           missing   \n",
      "53357908  śródmieście północne                gt10                52   \n",
      "\n",
      "         price_per_sqm  \n",
      "Id                      \n",
      "54555896  12948.113208  \n",
      "53357908  47941.285417  \n",
      "\n",
      "[2 rows x 58 columns]\n"
     ]
    }
   ],
   "source": [
    "print(sample[sample['surface'] > 400])"
   ]
  },
  {
   "cell_type": "markdown",
   "metadata": {},
   "source": [
    "Removing duplicates\n",
    "-------------------"
   ]
  },
  {
   "cell_type": "markdown",
   "metadata": {},
   "source": [
    "We identify duplicates by website link. Usually same offer is upload few times. We can recognize them by link (the beginning of link is the same, but endings have got different number sequences, see example below. "
   ]
  },
  {
   "cell_type": "code",
   "execution_count": 14,
   "metadata": {},
   "outputs": [
    {
     "name": "stdout",
     "output_type": "stream",
     "text": [
      "https://www.otodom.pl/oferta/0-prowizji-doskonala-lokalizacja-wysoki-standard-ID3I0oY.html\n",
      "https://www.otodom.pl/oferta/0-prowizji-doskonala-lokalizacja-wysoki-standard-ID3I0p6.html\n"
     ]
    }
   ],
   "source": [
    "print(sample.loc[[str(54816988)]]['link'][0])\n",
    "print(sample.loc[[str(54816996)]]['link'][0])"
   ]
  },
  {
   "cell_type": "code",
   "execution_count": 15,
   "metadata": {},
   "outputs": [
    {
     "name": "stdout",
     "output_type": "stream",
     "text": [
      "Number of duplicates identified by link 2461\n",
      "After removing duplicates 9036\n"
     ]
    }
   ],
   "source": [
    "temp = sample[['link']].copy()\n",
    "temp['link'] = [x[:-13] for x in temp['link']]\n",
    "duplicates = temp.duplicated()\n",
    "\n",
    "i = 0\n",
    "delete_from_sample = []\n",
    "for item in duplicates.iteritems():\n",
    "    i = i + item[1]\n",
    "    delete_from_sample.append(not item[1])\n",
    "print('Number of duplicates identified by link',i)\n",
    "sample = sample[delete_from_sample]\n",
    "print('After removing duplicates',sample.shape[0])"
   ]
  },
  {
   "cell_type": "markdown",
   "metadata": {},
   "source": [
    "We also recognize duplicates by similarity in flat description.\n",
    "If two flats have the same:\n",
    "* price\n",
    "* surface\n",
    "* number of rooms\n",
    "* year of construction\n",
    "* building type\n",
    "* number of building floors\n",
    "and lays in the same borough, we recognize those flats as duplicates."
   ]
  },
  {
   "cell_type": "code",
   "execution_count": 16,
   "metadata": {},
   "outputs": [
    {
     "name": "stdout",
     "output_type": "stream",
     "text": [
      "Number of duplicates identified by characteristics of flat 1163\n",
      "After removing duplicates 7873\n"
     ]
    }
   ],
   "source": [
    "temp = sample[['Borough','building_floor_no','price','surface','rooms','building_type','year_of_construction']].copy()\n",
    "duplicates = temp.duplicated(keep=False)\n",
    "\n",
    "i = 0\n",
    "delete_from_sample = []\n",
    "for item in duplicates.iteritems():\n",
    "    i = i + item[1]\n",
    "    delete_from_sample.append(not item[1])\n",
    "print('Number of duplicates identified by characteristics of flat',i)\n",
    "sample = sample[delete_from_sample]\n",
    "print('After removing duplicates',sample.shape[0])"
   ]
  },
  {
   "cell_type": "markdown",
   "metadata": {},
   "source": [
    "Correcting the rent\n",
    "--------"
   ]
  },
  {
   "cell_type": "markdown",
   "metadata": {},
   "source": [
    "We transform rent from string in form 'xxx zl'  to float xxx"
   ]
  },
  {
   "cell_type": "code",
   "execution_count": 17,
   "metadata": {},
   "outputs": [],
   "source": [
    "sample['rent'] = [ float(x[:-3].replace(' ','').replace(',','.')) if x != '.' else np.nan for x in sample['rent']]"
   ]
  },
  {
   "cell_type": "markdown",
   "metadata": {},
   "source": [
    "Age of apartment\n",
    "----------"
   ]
  },
  {
   "cell_type": "markdown",
   "metadata": {},
   "source": [
    "Basing on the year of construction we calculate the age of flat.\n",
    "\n",
    "Firstly we identify erroneous data."
   ]
  },
  {
   "cell_type": "code",
   "execution_count": 18,
   "metadata": {},
   "outputs": [
    {
     "name": "stdout",
     "output_type": "stream",
     "text": [
      "['.', '1', '1061', '1700', '1730', '1782', '1784', '1790', '1800', '1815', '1823', '1826', '1830', '1832', '1853', '1870', '1877', '1882', '1888', '1890', '1893', '1895', '1897', '1900', '1902', '1904', '1905', '1906', '1907', '1910', '1911', '1912', '1913', '1914', '1915', '1918', '1920', '1921', '1922', '1923', '1924', '1925', '1926', '1927', '1928', '1929', '1930', '1931', '1932', '1933', '1934', '1935', '1936', '1937', '1938', '1939', '1940', '1943', '1944', '1945', '1946', '1947', '1948', '1949', '1950', '1951', '1952', '1953', '1954', '1955', '1956', '1957', '1958', '1959', '1960', '1961', '1962', '1963', '1964', '1965', '1966', '1967', '1968', '1969', '1970', '1971', '1972', '1973', '1974', '1975', '1976', '1977', '1978', '1979', '1980', '1981', '1982', '1983', '1984', '1985', '1986', '1987', '1988', '1989', '1990', '1991', '1992', '1993', '1994', '1995', '1996', '1997', '1998', '1999', '20', '2000', '2001', '20018', '2002', '2003', '2004', '2005', '2006', '2007', '2008', '2009', '2010', '2011', '2012', '2013', '2014', '2015', '2016', '2017', '2018', '2019', '2020', '2021', '218', '2204', '66', '70', '74']\n"
     ]
    }
   ],
   "source": [
    "print(sorted(list(sample['year_of_construction'].unique())))"
   ]
  },
  {
   "cell_type": "code",
   "execution_count": 19,
   "metadata": {},
   "outputs": [
    {
     "name": "stdout",
     "output_type": "stream",
     "text": [
      "['.', '1700', '1730', '1782', '1784', '1790', '1800', '1815', '1823', '1826', '1830', '1832', '1853', '1870', '1877', '1882', '1888', '1890', '1893', '1895', '1897', '1900', '1902', '1904', '1905', '1906', '1907', '1910', '1911', '1912', '1913', '1914', '1915', '1918', '1920', '1921', '1922', '1923', '1924', '1925', '1926', '1927', '1928', '1929', '1930', '1931', '1932', '1933', '1934', '1935', '1936', '1937', '1938', '1939', '1940', '1943', '1944', '1945', '1946', '1947', '1948', '1949', '1950', '1951', '1952', '1953', '1954', '1955', '1956', '1957', '1958', '1959', '1960', '1961', '1962', '1963', '1964', '1965', '1966', '1967', '1968', '1969', '1970', '1971', '1972', '1973', '1974', '1975', '1976', '1977', '1978', '1979', '1980', '1981', '1982', '1983', '1984', '1985', '1986', '1987', '1988', '1989', '1990', '1991', '1992', '1993', '1994', '1995', '1996', '1997', '1998', '1999', '2000', '2001', '2002', '2003', '2004', '2005', '2006', '2007', '2008', '2009', '2010', '2011', '2012', '2013', '2014', '2015', '2016', '2017', '2018', '2019', '2020', '2021', '2024']\n"
     ]
    }
   ],
   "source": [
    "mapping ={'70':'1970','66':'1966','1':'.','2204':'2024','20':'2020','74':'1974','1061':'1961','20018':'2018','218':'2018'}\n",
    "sample['year_of_construction'] = [mapping[y] if y in mapping.keys() else y for y in sample['year_of_construction'] ]\n",
    "print(sorted(list(sample['year_of_construction'].unique())))\n",
    "\n",
    "sample['age'] = sample['year_of_construction'].apply(lambda x: max(min(2019-int(x),150),0) if x != '.' else np.nan) "
   ]
  },
  {
   "cell_type": "markdown",
   "metadata": {},
   "source": [
    "Filling missing age\n",
    "----------"
   ]
  },
  {
   "cell_type": "markdown",
   "metadata": {},
   "source": [
    "The number of missing for age of flat is quite high.\n",
    "\n",
    "We assume that age missing are MAR type (Missing at random). It means thatthe propensity for a data point to be missing is not related to the missing data, but it is related to some of the observed data. We assume that age of flat will be highly dependent on borough, type of flat or technology it was build (type of material). We investigate if distribution of age is unimodal for borough, flat type and materials or for combination of those three. Then basing on our analysis we will fill age using mean, median or randomly picked number.\n",
    "\n",
    "We will fill the missing according to following algorithm\n",
    "* Missings for flats from primary market are replaced with 1.0\n",
    "* Replace the missing by mean, media or random choice, after identifying the proper subpopulation.\n",
    "\n",
    "We will check the quality of our imputation by analyzing distribution of age before and after filling the missings. To many outliers or to large concentration indicates poor quality of inputation "
   ]
  },
  {
   "cell_type": "code",
   "execution_count": 20,
   "metadata": {},
   "outputs": [
    {
     "name": "stdout",
     "output_type": "stream",
     "text": [
      "Number of missing age 1353\n",
      "Number of missing age as percentage of sample 17.0 %\n"
     ]
    }
   ],
   "source": [
    "print('Number of missing age',sample['age'].isna().sum())\n",
    "print('Number of missing age as percentage of sample',round(100*sample['age'].isna().sum()/len(sample['age'])),'%')"
   ]
  },
  {
   "cell_type": "markdown",
   "metadata": {},
   "source": [
    "Missing age for primery market offers are filled with *1.0* "
   ]
  },
  {
   "cell_type": "code",
   "execution_count": 21,
   "metadata": {},
   "outputs": [
    {
     "name": "stdout",
     "output_type": "stream",
     "text": [
      "Number of missing age 616\n",
      "Number of missing age as percentage of sample 8.0 %\n"
     ]
    }
   ],
   "source": [
    "sample['age'] = [1.0 if math.isnan(a) and m == 'primary' else a for a,m in zip(sample['age'],sample['market'])]\n",
    "\n",
    "print('Number of missing age',sample['age'].isna().sum())\n",
    "print('Number of missing age as percentage of sample',round(100*sample['age'].isna().sum()/len(sample['age'])),'%')"
   ]
  },
  {
   "cell_type": "code",
   "execution_count": 22,
   "metadata": {},
   "outputs": [
    {
     "data": {
      "image/png": "[encoded data removed]",
      "text/plain": [
       "<Figure size 1296x720 with 12 Axes>"
      ]
     },
     "metadata": {},
     "output_type": "display_data"
    }
   ],
   "source": [
    "bins = np.linspace(min(sample['age']), max(sample['age']), 25)\n",
    "\n",
    "f, ((ax11, ax12, ax13), (ax21, ax22, ax23), (ax31, ax32, ax33), (ax41, ax42, ax43)) = plt.subplots(4,3,figsize=(18,10))\n",
    "\n",
    "ax11.hist(sample[sample['Borough']=='śródmieście']['age'].dropna(), bins, alpha=0.5, label='śródmieści')\n",
    "ax11.hist(sample[sample['Borough']=='bielany']['age'].dropna(), bins, alpha=0.5, label='bielany')\n",
    "ax11.hist(sample[sample['Borough']=='białołęka']['age'].dropna(), bins, alpha=0.5, label='białołęka')\n",
    "ax11.legend(loc='upper right')\n",
    "ax11.set_title('Fig1')\n",
    "\n",
    "ax12.hist(sample[sample['Borough']=='mokotów']['age'].dropna(), bins, alpha=0.5, label='mokotów')\n",
    "ax12.hist(sample[sample['Borough']=='wola']['age'].dropna(), bins, alpha=0.5, label='wola')\n",
    "ax12.hist(sample[sample['Borough']=='wawer']['age'].dropna(), bins, alpha=0.5, label='wawer')\n",
    "ax12.legend(loc='upper right')\n",
    "ax12.set_title('Fig2')\n",
    "\n",
    "ax13.hist(sample[sample['Borough']=='ursynów']['age'].dropna(), bins, alpha=0.5, label='ursynów')\n",
    "ax13.hist(sample[sample['Borough']=='wesoła']['age'].dropna(), bins, alpha=0.5, label='wesoła')\n",
    "ax13.hist(sample[sample['Borough']=='ochota']['age'].dropna(), bins, alpha=0.5, label='ochota')\n",
    "ax13.legend(loc='upper right')\n",
    "ax13.set_title('Fig3')\n",
    "\n",
    "ax21.hist(sample[sample['building_material']=='brick']['age'].dropna(), bins, alpha=0.5, label='brick')\n",
    "ax21.hist(sample[sample['building_material']=='concrete_plate']['age'].dropna(), bins, alpha=0.5, label='concrete_plate')\n",
    "ax21.hist(sample[sample['building_material']=='missing']['age'].dropna(), bins, alpha=0.5, label='missing')\n",
    "ax21.legend(loc='upper right')\n",
    "ax21.set_title('Fig4')\n",
    "\n",
    "ax22.hist(sample[sample['building_type']=='apartment']['age'].dropna(), bins, alpha=0.5, label='apartment')\n",
    "ax22.hist(sample[sample['building_type']=='block']['age'].dropna(), bins, alpha=0.5, label='block')\n",
    "ax22.hist(sample[sample['building_type']=='tenement']['age'].dropna(), bins, alpha=0.5, label='tenement')\n",
    "ax22.legend(loc='upper right')\n",
    "ax22.set_title('Fig5')\n",
    "\n",
    "ax23.hist(sample[(sample['building_type']=='apartment') & (sample['building_material']=='brick')]['age'].dropna(), bins, alpha=0.5, label='brick apartment')\n",
    "ax23.hist(sample[(sample['building_type']=='block')  & (sample['building_material']=='brick')]['age'].dropna(), bins, alpha=0.5, label='brick block')\n",
    "ax23.hist(sample[(sample['building_type']=='house')  & (sample['building_material']=='brick')]['age'].dropna(), bins, alpha=0.5, label='brick house')\n",
    "ax23.legend(loc='upper right')\n",
    "ax23.set_title('Fig6')\n",
    "\n",
    "ax31.hist(sample[(sample['Borough']=='śródmieście') & (sample['building_type']=='apartment')]['age'].dropna(), bins, alpha=0.5, label='srodmiescie apartment')\n",
    "ax31.hist(sample[(sample['Borough']=='śródmieście') & (sample['building_type']=='block')]['age'].dropna(), bins, alpha=0.5, label='srodmiescie block')\n",
    "ax31.hist(sample[(sample['Borough']=='śródmieście') & (sample['building_type']=='tenement')]['age'].dropna(), bins, alpha=0.5, label='srodmiescie tenement')\n",
    "ax31.legend(loc='upper right')\n",
    "ax31.set_title('Fig7')\n",
    "\n",
    "ax32.hist(sample[(sample['Borough']=='ursynów') & (sample['building_material']=='brick')]['age'].dropna(), bins, alpha=0.5, label='ursynow brick')\n",
    "ax32.hist(sample[(sample['Borough']=='ursynów') & (sample['building_material']=='concrete_plate')]['age'].dropna(), bins, alpha=0.5, label='ursynow concrete_plate')\n",
    "ax32.hist(sample[(sample['Borough']=='ursynów') & (sample['building_material']=='concrete')]['age'].dropna(), bins, alpha=0.5, label='ursynow brick concrete')\n",
    "ax32.legend(loc='upper right')\n",
    "ax32.set_title('Fig8')\n",
    "\n",
    "ax33.hist(sample[(sample['Borough']=='wola') & (sample['building_type']=='apartment') & (sample['building_material']=='brick')]['age'].dropna(), bins, alpha=0.5, label='wola brick apartment')\n",
    "ax33.hist(sample[(sample['Borough']=='wola') & (sample['building_type']=='block') & (sample['building_material']=='brick')]['age'].dropna(), bins, alpha=0.5, label='wola brick block')\n",
    "ax33.hist(sample[(sample['Borough']=='wola') & (sample['building_type']=='tenement') & (sample['building_material']=='brick')]['age'].dropna(), bins, alpha=0.5, label='wola brick tenement')\n",
    "ax33.legend(loc='upper right')\n",
    "ax33.set_title('Fig9')\n",
    "\n",
    "ax41.hist(sample[(sample['Borough']=='wola') & (sample['building_type']=='apartment') & (sample['building_material']=='brick')]['age'].dropna(), bins, alpha=0.5, label='wola brick apartment')\n",
    "ax41.hist(sample[(sample['Borough']=='śródmieście') & (sample['building_type']=='apartment') & (sample['building_material']=='brick')]['age'].dropna(), bins, alpha=0.5, label='śródmieście brick  apartment')\n",
    "ax41.hist(sample[(sample['Borough']=='bielany') & (sample['building_type']=='apartment') & (sample['building_material']=='brick')]['age'].dropna(), bins, alpha=0.5, label='bielany brick apartment')\n",
    "ax41.legend(loc='upper right')\n",
    "ax41.set_title('Fig10')\n",
    "\n",
    "ax42.hist(sample[(sample['Borough']=='wola') & (sample['building_type']=='block') & (sample['building_material']=='concrete_plate')]['age'].dropna(), bins, alpha=0.5, label='wola concrete_plate block')\n",
    "ax42.hist(sample[(sample['Borough']=='śródmieście') & (sample['building_type']=='block') & (sample['building_material']=='concrete_plate')]['age'].dropna(), bins, alpha=0.5, label='śródmieście concrete_plate  block')\n",
    "ax42.hist(sample[(sample['Borough']=='ursynów') & (sample['building_type']=='block') & (sample['building_material']=='concrete_plate')]['age'].dropna(), bins, alpha=0.5, label='bielany concrete_plate block')\n",
    "ax42.legend(loc='upper right')\n",
    "ax42.set_title('Fig11')\n",
    "\n",
    "ax43.hist(sample[(sample['Borough']=='śródmieście') & (sample['building_type']=='block') & (sample['building_material']=='brick')]['age'].dropna(), bins, alpha=0.5, label='wola concrete_plate block')\n",
    "ax43.hist(sample[(sample['Borough']=='śródmieście') & (sample['building_type']=='block') & (sample['building_material']=='concrete_plate')]['age'].dropna(), bins, alpha=0.5, label='śródmieście concrete_plate  block')\n",
    "ax43.hist(sample[(sample['Borough']=='śródmieście') & (sample['building_type']=='block') & (sample['building_material']=='concrete')]['age'].dropna(), bins, alpha=0.5, label='bielany concrete_plate block')\n",
    "ax43.legend(loc='upper right')\n",
    "ax43.set_title('Fig12')\n",
    "\n",
    "plt.tight_layout(pad=0.4, w_pad=0.5, h_pad=1.0)\n",
    "plt.show()"
   ]
  },
  {
   "cell_type": "markdown",
   "metadata": {},
   "source": [
    "We see that using all features: borough, material and type of building gives most unimodal distributions (compare Fig10-Fig12)"
   ]
  },
  {
   "cell_type": "code",
   "execution_count": 23,
   "metadata": {},
   "outputs": [
    {
     "name": "stdout",
     "output_type": "stream",
     "text": [
      "Number of missing age_mean 5\n",
      "Number of missing age_mean as percentage of sample 0.0 %\n",
      "Number of missing age_mode 5\n",
      "Number of missing age_mode as percentage of sample 0.0 %\n",
      "Number of missing age_median 5\n",
      "Number of missing age_median as percentage of sample 0.0 %\n",
      "Number of missing age_random 81\n",
      "Number of missing age_random as percentage of sample 1.0 %\n"
     ]
    }
   ],
   "source": [
    "# Creating a dict with key (borough_material_type) and mean/median of age as value  that will be used to replace missings\n",
    "age_of_flat = sample.groupby(['Borough','building_material','building_type']).agg(['mean','median','min','max','std','count'])['age']\n",
    "age_of_flat = age_of_flat.reset_index()\n",
    "age_of_flat['key'] = age_of_flat['Borough'] +'_' + age_of_flat['building_material'] +'_' + age_of_flat['building_type'] \n",
    "\n",
    "age_of_flat_median = age_of_flat.set_index('key')['median'].to_dict()\n",
    "age_of_flat_mean = age_of_flat.set_index('key')['mean'].to_dict()\n",
    "\n",
    "# Creating a dict with key (borough_material_type) and mode of age as value that will be used to replace missings\n",
    "age_of_flat = sample.groupby(['Borough','building_material','building_type']).agg(lambda x:  x.value_counts().iloc[0] if len(x.value_counts()) > 0 else np.nan)['age']\n",
    "age_of_flat = age_of_flat.reset_index()\n",
    "age_of_flat['key'] = age_of_flat['Borough'] +'_' + age_of_flat['building_material'] + '_' + age_of_flat['building_type'] \n",
    "\n",
    "age_of_flat_mode = age_of_flat.set_index('key')['age'].to_dict()\n",
    "\n",
    "# Creating a dict with key (borough_material_type) and list of age as value that will be sampled and will replace missings\n",
    "sampling_age = dict()\n",
    "for b in sample['Borough'].unique():\n",
    "    for m in sample['building_material'].unique():\n",
    "        for t in sample['building_type'].unique():\n",
    "            sampling_age[b + '_' + m + '_' + t] = sample[(sample['Borough']==b) & (sample['building_material']==m) & (sample['building_type']==t) ]['age'].tolist()\n",
    "\n",
    "# replacing the missings \n",
    "sample['age_mean']   = [age_of_flat_mean[b+'_'+m+'_'+t] if math.isnan(a) else a for b,m,t,a in zip(sample['Borough'],sample['building_material'],sample['building_type'],sample['age'])]\n",
    "sample['age_mode']   = [age_of_flat_mode[b+'_'+m+'_'+t] if math.isnan(a) else a for b,m,t,a in zip(sample['Borough'],sample['building_material'],sample['building_type'],sample['age'])]\n",
    "sample['age_median'] = [age_of_flat_median[b+'_'+m+'_'+t] if math.isnan(a) else a for b,m,t,a in zip(sample['Borough'],sample['building_material'],sample['building_type'],sample['age'])]\n",
    "sample['age_random'] = [np.random.choice(sampling_age[b+'_'+m+'_'+t]) if math.isnan(a) else a for b,m,t,a in zip(sample['Borough'],sample['building_material'],sample['building_type'],sample['age'])]\n",
    "\n",
    "for x in ['age_mean','age_mode','age_median','age_random']:\n",
    "    print('Number of missing ' + x ,sample[x].isna().sum())\n",
    "    print('Number of missing ' + x +' as percentage of sample',round(100*sample[x].isna().sum()/len(sample[x])),'%')            "
   ]
  },
  {
   "cell_type": "code",
   "execution_count": 24,
   "metadata": {},
   "outputs": [
    {
     "name": "stdout",
     "output_type": "stream",
     "text": [
      "Number of missing age_mean 0\n",
      "Number of missing age_mean as percentage of sample 0.0 %\n",
      "Number of missing age_mode 0\n",
      "Number of missing age_mode as percentage of sample 0.0 %\n",
      "Number of missing age_median 0\n",
      "Number of missing age_median as percentage of sample 0.0 %\n",
      "Number of missing age_random 0\n",
      "Number of missing age_random as percentage of sample 0.0 %\n"
     ]
    }
   ],
   "source": [
    "age_of_flat = sample.groupby(['Borough']).agg(['mean'])['age']['mean'].to_dict()\n",
    "\n",
    "sample['age_mean']   = [round(age_of_flat[b]) if math.isnan(a) else a for b,a in zip(sample['Borough'],sample['age_mean'])]\n",
    "sample['age_mode']   = [round(age_of_flat[b]) if math.isnan(a) else a for b,a in zip(sample['Borough'],sample['age_mode'])]\n",
    "sample['age_median'] = [round(age_of_flat[b]) if math.isnan(a) else a for b,a in zip(sample['Borough'],sample['age_median'])]\n",
    "sample['age_random'] = [round(age_of_flat[b]) if math.isnan(a) else a for b,a in zip(sample['Borough'],sample['age_random'])]\n",
    "for x in ['age_mean','age_mode','age_median','age_random']:\n",
    "    print('Number of missing ' + x ,sample[x].isna().sum())\n",
    "    print('Number of missing ' + x +' as percentage of sample',round(100*sample[x].isna().sum()/len(sample[x])),'%')"
   ]
  },
  {
   "cell_type": "code",
   "execution_count": 25,
   "metadata": {},
   "outputs": [
    {
     "data": {
      "image/png": "[encoded data removed]",
      "text/plain": [
       "<Figure size 1080x576 with 6 Axes>"
      ]
     },
     "metadata": {},
     "output_type": "display_data"
    }
   ],
   "source": [
    "bins = np.linspace(min(sample['age']), max(sample['age']), 25)\n",
    "\n",
    "f, ((ax11, ax12, ax13),(ax21, ax22, ax23)) = plt.subplots(2,3,figsize=(15,8))\n",
    "\n",
    "ax11.hist(sample['age_mean'].dropna(), bins, alpha=0.5, label='mean')\n",
    "ax11.hist(sample['age_mode'].dropna(), bins, alpha=0.5, label='mode')\n",
    "ax11.hist(sample['age_random'].dropna(), bins, alpha=0.5, label='random')\n",
    "ax11.hist(sample['age'].dropna(), bins, alpha=0.5, label='orig')\n",
    "ax11.legend(loc='upper right')\n",
    "ax11.set_title('Fig1')\n",
    "\n",
    "ax12.hist(sample[sample['Borough']=='śródmieście']['age_mean'].dropna(), bins, alpha=0.5, label='śródmieście mean')\n",
    "ax12.hist(sample[sample['Borough']=='śródmieście']['age_mode'].dropna(), bins, alpha=0.5, label='śródmieście mode')\n",
    "ax12.hist(sample[sample['Borough']=='śródmieście']['age_random'].dropna(), bins, alpha=0.5, label='śródmieście random')\n",
    "ax12.hist(sample[sample['Borough']=='śródmieście']['age'].dropna(), bins, alpha=0.5, label='śródmieście orig')\n",
    "ax12.legend(loc='upper right')\n",
    "ax12.set_title('Fig2')\n",
    "\n",
    "ax13.hist(sample[sample['Borough']=='mokotów']['age_mean'].dropna(), bins, alpha=0.5, label='mokotów mean')\n",
    "ax13.hist(sample[sample['Borough']=='mokotów']['age_mode'].dropna(), bins, alpha=0.5, label='mokotów mode')\n",
    "ax13.hist(sample[sample['Borough']=='mokotów']['age_random'].dropna(), bins, alpha=0.5, label='mokotów random')\n",
    "ax13.hist(sample[sample['Borough']=='mokotów']['age'].dropna(), bins, alpha=0.5, label='mokotów orig')\n",
    "ax13.legend(loc='upper right')\n",
    "ax13.set_title('Fig3')\n",
    "\n",
    "ax21.hist(sample[(sample['Borough']=='mokotów') & (sample['building_type']=='block')]['age_mean'].dropna(), bins, alpha=0.5, label='mokotów block mean')\n",
    "ax21.hist(sample[(sample['Borough']=='mokotów') & (sample['building_type']=='block')]['age_mode'].dropna(), bins, alpha=0.5, label='mokotów block mode')\n",
    "ax21.hist(sample[(sample['Borough']=='mokotów') & (sample['building_type']=='block')]['age_random'].dropna(), bins, alpha=0.5, label='mokotów block random')\n",
    "ax21.hist(sample[(sample['Borough']=='mokotów') & (sample['building_type']=='block')]['age'].dropna(), bins, alpha=0.5, label='mokotów block orig')\n",
    "ax21.legend(loc='upper right')\n",
    "ax21.set_title('Fig4')\n",
    "\n",
    "ax22.hist(sample[(sample['Borough']=='wola') & (sample['building_material']=='brick')]['age_mean'].dropna(), bins, alpha=0.5, label='wola brick mean')\n",
    "ax22.hist(sample[(sample['Borough']=='wola') & (sample['building_material']=='brick')]['age_mode'].dropna(), bins, alpha=0.5, label='wola brick mode')\n",
    "ax22.hist(sample[(sample['Borough']=='wola') & (sample['building_material']=='brick')]['age_random'].dropna(), bins, alpha=0.5, label='wola brick random')\n",
    "ax22.hist(sample[(sample['Borough']=='wola') & (sample['building_material']=='brick')]['age'].dropna(), bins, alpha=0.5, label='wola brick orig')\n",
    "ax22.legend(loc='upper right')\n",
    "ax22.set_title('Fig')\n",
    "\n",
    "ax23.hist(sample[(sample['Borough']=='wola') & (sample['building_material']=='brick') & (sample['building_type']=='block')]['age_mean'].dropna(), bins, alpha=0.5, label='śródmieście brick block mean')\n",
    "ax23.hist(sample[(sample['Borough']=='wola') & (sample['building_material']=='brick') & (sample['building_type']=='block')]['age_mode'].dropna(), bins, alpha=0.5, label='śródmieście brick block mode')\n",
    "ax23.hist(sample[(sample['Borough']=='wola') & (sample['building_material']=='brick') & (sample['building_type']=='block')]['age_random'].dropna(), bins, alpha=0.5, label='śródmieście brick block random')\n",
    "ax23.hist(sample[(sample['Borough']=='wola') & (sample['building_material']=='brick') & (sample['building_type']=='block')]['age'].dropna(), bins, alpha=0.5, label='śródmieście brick block orig')\n",
    "ax23.legend(loc='upper right')\n",
    "ax23.set_title('Fig6')\n",
    "\n",
    "plt.tight_layout(pad=0.4, w_pad=0.5, h_pad=1.0)\n",
    "plt.show()"
   ]
  },
  {
   "cell_type": "markdown",
   "metadata": {},
   "source": [
    "Assesing the quality of inputation. We see that random picked numbers are best."
   ]
  },
  {
   "cell_type": "markdown",
   "metadata": {},
   "source": [
    "Interpreting district column\n",
    "----------\n",
    "We try to obtain the name of borough from data kept in *district* column"
   ]
  },
  {
   "cell_type": "code",
   "execution_count": 26,
   "metadata": {},
   "outputs": [],
   "source": [
    "with open(\"utils/warszawa_addresses.csv\") as f:\n",
    "    reader = csv.reader(f, delimiter=';', quotechar='|')\n",
    "    lst = []\n",
    "    col_names = []\n",
    "    for i,row in enumerate(reader):\n",
    "        if i == 0:\n",
    "            col_names = row\n",
    "            continue\n",
    "        lst.append(dict(zip(col_names,row)))\n",
    "addresses = pd.DataFrame(lst)"
   ]
  },
  {
   "cell_type": "code",
   "execution_count": 27,
   "metadata": {},
   "outputs": [],
   "source": [
    "district_mapping = dict()\n",
    "for borough in addresses['Borough'].unique():\n",
    "    district_mapping[borough.lower()] = borough.lower()\n",
    "for borough, neighbourhood in zip(addresses['Borough'],addresses['Neighbourhood']):\n",
    "    district_mapping[neighbourhood.lower()] = borough.lower()   "
   ]
  },
  {
   "cell_type": "code",
   "execution_count": 28,
   "metadata": {},
   "outputs": [
    {
     "name": "stdout",
     "output_type": "stream",
     "text": [
      "praga-północ\n",
      "praga-południe\n",
      "centrum\n",
      ".\n",
      "królikarnia\n",
      "jelonki\n",
      "praga\n",
      "imielin\n",
      "dolny mokotów\n",
      "górny mokotów\n",
      "annopol\n",
      "pola mokotowskie\n",
      "mariensztat\n",
      "lewandów\n",
      "białołęka dworska\n",
      "nowe górce\n",
      "metro wilanowska\n",
      "kąty grodziskie\n",
      "kawęczyn\n",
      "nowe bródno\n",
      "augustów\n",
      "marymont\n",
      "stokłosy\n",
      "przyczółek grochowski\n",
      "kępa gocławska\n",
      "kępa tarchomińska\n",
      "latawiec\n",
      "nowy służewiec\n",
      "moczydło\n",
      "witolin\n"
     ]
    }
   ],
   "source": [
    "distric_names = list(sample['district'].unique())\n",
    "for item in distric_names:\n",
    "    if not item in district_mapping.keys():\n",
    "        print(item)"
   ]
  },
  {
   "cell_type": "code",
   "execution_count": 29,
   "metadata": {},
   "outputs": [],
   "source": [
    "district_mapping['praga-północ'] = 'praga'\n",
    "district_mapping['lewandów'] = 'białołęka'\n",
    "district_mapping['praga-południe'] = 'praga'\n",
    "district_mapping['centrum'] ='śródmieście'\n",
    "district_mapping['.'] = 'missing'\n",
    "district_mapping['królikarnia'] = 'mokotów'\n",
    "district_mapping['jelonki'] = 'bemowo'\n",
    "district_mapping['praga'] = 'praga'\n",
    "district_mapping['imielin'] = 'ursynów'\n",
    "district_mapping['dolny mokotów'] = 'mokotów'\n",
    "district_mapping['górny mokotów'] ='mokotów'\n",
    "district_mapping['annopol'] = 'białołęka'\n",
    "district_mapping['mariensztat'] = 'śródmieście'\n",
    "district_mapping['białołęka dworska'] = 'białołęka'\n",
    "district_mapping['nowe górce'] = 'bemowo'\n",
    "district_mapping['metro wilanowska'] = 'mokotów'\n",
    "district_mapping['kąty grodziskie'] = 'białołęka'\n",
    "district_mapping['pola mokotowskie'] = 'mokotów'\n",
    "district_mapping['kawęczyn'] = 'rembertów'\n",
    "district_mapping['nowe bródno'] = 'targówek'\n",
    "district_mapping['augustów'] = 'białołęka'\n",
    "district_mapping['marymont'] = 'bielany'\n",
    "district_mapping['przyczółek grochowski'] = 'praga'\n",
    "district_mapping['kępa tarchomińska'] = 'białołęka'\n",
    "district_mapping['latawiec'] = 'śródmieście'\n",
    "district_mapping['stokłosy'] = 'ursynów'\n",
    "district_mapping['nowy służewiec'] = 'ursynów'\n",
    "district_mapping['witolin'] = 'praga'\n",
    "\n",
    "sample['district'] = sample['district'].map(mapping).fillna(\".\").astype(str)"
   ]
  },
  {
   "cell_type": "markdown",
   "metadata": {},
   "source": [
    "Saving data\n",
    "----------"
   ]
  },
  {
   "cell_type": "code",
   "execution_count": 30,
   "metadata": {},
   "outputs": [],
   "source": [
    "sample['Id'] = sample.index\n",
    "with open('data/warszawa.csv', 'w') as f:\n",
    "    sample.to_csv(f, header=True, na_rep='.', sep=';',encoding='utf-8',index=False)"
   ]
  }
 ],
 "metadata": {
  "kernelspec": {
   "display_name": "Python 3",
   "language": "python",
   "name": "python3"
  },
  "language_info": {
   "codemirror_mode": {
    "name": "ipython",
    "version": 3
   },
   "file_extension": ".py",
   "mimetype": "text/x-python",
   "name": "python",
   "nbconvert_exporter": "python",
   "pygments_lexer": "ipython3",
   "version": "3.6.5"
  }
 },
 "nbformat": 4,
 "nbformat_minor": 2
}
